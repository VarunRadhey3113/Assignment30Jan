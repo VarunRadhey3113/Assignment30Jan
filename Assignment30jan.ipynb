{
 "cells": [
  {
   "cell_type": "code",
   "execution_count": 1,
   "id": "6daa0fd0-1d50-4228-9bae-c57ab50ee674",
   "metadata": {},
   "outputs": [],
   "source": [
    "# Q1.  Write a program to accept percentage from the user annd display the grade according to the following creteria.\n",
    "\n",
    "#  Marks          Grade\n",
    "#    >90                A\n",
    "#   >80 and <=90        B\n",
    "#   >=60 and <=80       C\n",
    "#   Below 60            D"
   ]
  },
  {
   "cell_type": "code",
   "execution_count": 2,
   "id": "3f9d7765-e30e-43a9-9c77-1ee3bd763e4a",
   "metadata": {},
   "outputs": [
    {
     "name": "stdout",
     "output_type": "stream",
     "text": [
      "enter your percentage\n"
     ]
    },
    {
     "name": "stdin",
     "output_type": "stream",
     "text": [
      " 84\n"
     ]
    },
    {
     "name": "stdout",
     "output_type": "stream",
     "text": [
      "Your grade is B\n"
     ]
    }
   ],
   "source": [
    "\n",
    "# Ans.\n",
    "\n",
    "print (\"enter your percentage\")\n",
    "percentage = int(input())\n",
    "if percentage > 90 :\n",
    "    print(\"Your grade is A\")\n",
    "elif percentage > 80 :\n",
    "    print(\"Your grade is B\") \n",
    "elif percentage >= 60 :\n",
    "    print(\"Your grade is C\") \n",
    "elif percentage < 60 :\n",
    "    print(\"Your grade is D\") "
   ]
  },
  {
   "cell_type": "code",
   "execution_count": 3,
   "id": "90e855f2-3d64-438c-a5ca-7a1957f5e9a3",
   "metadata": {},
   "outputs": [],
   "source": [
    "# Q2.  Write a program to accept the cost price of a bike and display the road tax to be paid according to the following criteria:\n",
    "# Tax            Cost Price(in RS)\n",
    "# 15%             >100000\n",
    "# 10%             >50000 and <= 100000\n",
    "# 5%              <= 50000"
   ]
  },
  {
   "cell_type": "code",
   "execution_count": 4,
   "id": "0dd10cab-56f5-46f7-95b6-3a680d205b0d",
   "metadata": {},
   "outputs": [
    {
     "name": "stdout",
     "output_type": "stream",
     "text": [
      "enter your bike pirce\n"
     ]
    },
    {
     "name": "stdin",
     "output_type": "stream",
     "text": [
      " 120000\n"
     ]
    },
    {
     "name": "stdout",
     "output_type": "stream",
     "text": [
      "Pay '15%'  of Tax\n"
     ]
    }
   ],
   "source": [
    "# Ans:-\n",
    "\n",
    "print(\"enter your bike pirce\")\n",
    "bike_price = int(input())\n",
    "if bike_price > 100000 :\n",
    "    print(\"Pay '15%'  of Tax\")\n",
    "elif bike_price > 50000 :\n",
    "    print(\"Pay '10%' of tax\")\n",
    "elif bike_price <= 50000 :\n",
    "    print(\"Pay '5%' of tax\")"
   ]
  },
  {
   "cell_type": "code",
   "execution_count": null,
   "id": "9fc16e88-972a-4dba-b9b7-1ff9271ed69c",
   "metadata": {},
   "outputs": [],
   "source": [
    "# Q3. Accept any city from the user and display monuments of that city.\n",
    "#  City               Monument\n",
    "#  Delhi              Red Fort\n",
    "#  Agra               Taj Mahal\n",
    "#  Jaipur             Jal Mahal"
   ]
  },
  {
   "cell_type": "code",
   "execution_count": 7,
   "id": "8a2951d0-cbe2-4d9f-aa2f-f9f33a8d359b",
   "metadata": {},
   "outputs": [
    {
     "name": "stdout",
     "output_type": "stream",
     "text": [
      "enter your City name\n"
     ]
    },
    {
     "name": "stdin",
     "output_type": "stream",
     "text": [
      " Delhi\n"
     ]
    },
    {
     "name": "stdout",
     "output_type": "stream",
     "text": [
      "Famous monuments of Delhi is Red Fort.\n"
     ]
    }
   ],
   "source": [
    "# Ans:-\n",
    "print(\"enter your City name\")\n",
    "city = input()\n",
    "if city == \"Delhi\" :\n",
    "    print(\"Famous monuments of Delhi is Red Fort.\")\n",
    "elif city == \"Agra\" :\n",
    "    print(\"Famous monuments of Agra is Taj Mahal.\")\n",
    "elif city == \"Jaipur\" :\n",
    "    print(\"Famous monuments of Jaipur is Jal Mahal.\")"
   ]
  },
  {
   "cell_type": "code",
   "execution_count": null,
   "id": "ca8a2812-78f8-46e9-8534-87fb8de800f1",
   "metadata": {},
   "outputs": [],
   "source": [
    "# Q5.  Why and when to use while loop in Python igive a detailed description with example."
   ]
  },
  {
   "cell_type": "code",
   "execution_count": null,
   "id": "8aff7886-fd26-498a-92f1-da21f4ae3993",
   "metadata": {},
   "outputs": [],
   "source": [
    "# Ans:-  While loop is useed when th number o iterations is already unknown or a number of times to run.\n",
    "#        A \"While\" loop is  used to  repeat a specific block of times, until a condition is met. For example, if we want to ask a user for a number between 1 and 10, we don' know\n",
    "#        how many times the user may enter a large number, so, we keep asking \"while\" the number is not between 1 and 10."
   ]
  },
  {
   "cell_type": "code",
   "execution_count": 11,
   "id": "9615548f-04ed-45d7-8c71-08e133507d09",
   "metadata": {},
   "outputs": [
    {
     "name": "stdout",
     "output_type": "stream",
     "text": [
      "1\n",
      "2\n",
      "3\n",
      "4\n",
      "5\n"
     ]
    }
   ],
   "source": [
    "x = 1\n",
    "while (x <= 5) :\n",
    "    print(x)\n",
    "    x+=1"
   ]
  },
  {
   "cell_type": "code",
   "execution_count": 13,
   "id": "08083703-691d-46f0-aab0-0cd702d6d69b",
   "metadata": {},
   "outputs": [
    {
     "name": "stdout",
     "output_type": "stream",
     "text": [
      "hill, hill, hill, hill, hill, hill, "
     ]
    }
   ],
   "source": [
    "i = 1\n",
    "while (i <= 6) :\n",
    "    print(\"hill\", end=\", \")\n",
    "    i+=1"
   ]
  },
  {
   "cell_type": "code",
   "execution_count": null,
   "id": "43a1b413-b3d1-45f6-88e1-d936995102a6",
   "metadata": {},
   "outputs": [],
   "source": []
  },
  {
   "cell_type": "code",
   "execution_count": 16,
   "id": "528739c2-7493-4dff-94aa-90087a386c47",
   "metadata": {},
   "outputs": [
    {
     "name": "stdout",
     "output_type": "stream",
     "text": [
      "1 \n",
      "1 2 \n",
      "1 2 3 \n",
      "1 2 3 4 \n",
      "1 2 3 4 5 \n"
     ]
    }
   ],
   "source": [
    "# Ans:-\n",
    "a = 1\n",
    "\n",
    "while (a<=5):\n",
    "    j = 1\n",
    "    while (j<=a):\n",
    "        print(j, end=\" \")\n",
    "        j+=1\n",
    "    print()\n",
    "    a+=1"
   ]
  },
  {
   "cell_type": "code",
   "execution_count": 21,
   "id": "059438f4-de4e-4f10-9950-f39ccf03a88a",
   "metadata": {},
   "outputs": [
    {
     "name": "stdout",
     "output_type": "stream",
     "text": [
      "* * * * * \n",
      "* * * * \n",
      "* * * \n",
      "* * \n",
      "* \n"
     ]
    }
   ],
   "source": [
    "b = 1\n",
    "\n",
    "while (b<=5):\n",
    "    j = 5\n",
    "    while (j >= b):\n",
    "        print(\"*\", end=\" \" )\n",
    "        j-=1\n",
    "    print()\n",
    "    b += 1"
   ]
  },
  {
   "cell_type": "code",
   "execution_count": 24,
   "id": "60051414-4836-4066-a9ad-66ab5e8b3eea",
   "metadata": {},
   "outputs": [
    {
     "name": "stdout",
     "output_type": "stream",
     "text": [
      "  1 \n",
      "  2   3 \n",
      "  4   5   6 \n",
      "  7   8   9  10 \n",
      " 11  12  13  14  15 \n"
     ]
    }
   ],
   "source": [
    "k = 1\n",
    "i = 1\n",
    "while i <= 5 :\n",
    "    j = 1\n",
    "    while j <= i :\n",
    "        print(\"{:3d}\".format(k), end = \" \")\n",
    "        j += 1\n",
    "        k += 1\n",
    "    print()\n",
    "    i += 1"
   ]
  },
  {
   "cell_type": "code",
   "execution_count": null,
   "id": "3fefba05-eb7c-44df-bf64-b1e94385131e",
   "metadata": {},
   "outputs": [],
   "source": [
    "# "
   ]
  }
 ],
 "metadata": {
  "kernelspec": {
   "display_name": "Python 3 (ipykernel)",
   "language": "python",
   "name": "python3"
  },
  "language_info": {
   "codemirror_mode": {
    "name": "ipython",
    "version": 3
   },
   "file_extension": ".py",
   "mimetype": "text/x-python",
   "name": "python",
   "nbconvert_exporter": "python",
   "pygments_lexer": "ipython3",
   "version": "3.10.6"
  }
 },
 "nbformat": 4,
 "nbformat_minor": 5
}
